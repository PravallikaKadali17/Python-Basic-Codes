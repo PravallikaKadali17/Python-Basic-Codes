{
  "nbformat": 4,
  "nbformat_minor": 0,
  "metadata": {
    "colab": {
      "provenance": [],
      "authorship_tag": "ABX9TyP1+GRq4o0IBDGUqr7d011H",
      "include_colab_link": true
    },
    "kernelspec": {
      "name": "python3",
      "display_name": "Python 3"
    },
    "language_info": {
      "name": "python"
    }
  },
  "cells": [
    {
      "cell_type": "markdown",
      "metadata": {
        "id": "view-in-github",
        "colab_type": "text"
      },
      "source": [
        "<a href=\"https://colab.research.google.com/github/PravallikaKadali17/Python-Basic-Codes/blob/main/Day_3.ipynb\" target=\"_parent\"><img src=\"https://colab.research.google.com/assets/colab-badge.svg\" alt=\"Open In Colab\"/></a>"
      ]
    },
    {
      "cell_type": "markdown",
      "source": [
        "**1.Replace Character**\n",
        "\n",
        "Write a function Replacecharacter(Char str1, Char ch1, Int 1, Char ch2)\n",
        "which has a string(str) and the two characters ch1 and ch2. Execute a\n",
        "function in such a way that string str will return to its original string,\n",
        "and all the events in ch1 are replaced by ch2 and vice versa?\n",
        "Consider: The strings will have only alphabets in lower case.\n",
        "\n",
        "Sample Test Case:\n",
        "\n",
        "Input:\n",
        "\n",
        "str: tervpro\n",
        "\n",
        "ch1: e\n",
        "\n",
        "ch2: p\n",
        "\n",
        "Output:\n",
        "\n",
        "tprvero\n",
        "\n",
        "Solution:\n",
        "\n",
        "All the ‘e’s in the string are replaced with the ‘p’ and ‘p’ is replaced with\n",
        "the ‘e’"
      ],
      "metadata": {
        "id": "Vw8tUBY_v-rE"
      }
    },
    {
      "cell_type": "code",
      "source": [
        "def Replacecharacter(str1,ch1,ch2):\n",
        "    str_list = list(str1)\n",
        "    for i in range(len(str_list)):\n",
        "        if str_list[i] == ch1:\n",
        "            str_list[i] = ch2\n",
        "        elif str_list[i] == ch2:\n",
        "            str_list[i] = ch1\n",
        "    return ''.join(str_list)\n",
        "str1 = input()\n",
        "ch1 = input()\n",
        "ch2 = input()\n",
        "print(Replacecharacter(str1, ch1, ch2))p"
      ],
      "metadata": {
        "colab": {
          "base_uri": "https://localhost:8080/"
        },
        "id": "1vC1H5mJzfgJ",
        "outputId": "fd65cdd9-bd79-4269-8f2f-c85cba37de0c"
      },
      "execution_count": 2,
      "outputs": [
        {
          "output_type": "stream",
          "name": "stdout",
          "text": [
            "tervpro\n",
            "e\n",
            "p\n",
            "tprvero\n"
          ]
        }
      ]
    },
    {
      "cell_type": "markdown",
      "source": [
        "**2.Reverse a String**\n",
        "\n",
        "Write a function that will accept strings from the user and will reverse\n",
        "the string word-wise. The last word will come as the first word in the\n",
        "output and vice versa?\n",
        "Sample Test Case 1:\n",
        "\n",
        "Input:\n",
        "\n",
        "terv pro\n",
        "\n",
        "Output:\n",
        "\n",
        "pro terv\n",
        "\n",
        "Explanation:\n",
        "The reverse string word-wise function is applied.\n",
        "\n",
        "Sample Test Case 2:\n",
        "\n",
        "Input:\n",
        "\n",
        "Welcome to Sunday samayal\n",
        "\n",
        "Output:\n",
        "\n",
        "samayal Sunday to Welcome\n"
      ],
      "metadata": {
        "id": "qBOxyuIszwAk"
      }
    },
    {
      "cell_type": "code",
      "source": [
        "def reverseaString(str):\n",
        "    words = str.split()\n",
        "    reversed_words = words[::-1]\n",
        "    reversed_string =' '.join(reversed_words)\n",
        "    return reversed_string\n",
        "str = input()\n",
        "print(reverseaString(str))"
      ],
      "metadata": {
        "colab": {
          "base_uri": "https://localhost:8080/"
        },
        "id": "ZK-Uc4Fz0Czf",
        "outputId": "b71b55d1-bcde-419c-861a-9a63ae4cb480"
      },
      "execution_count": 3,
      "outputs": [
        {
          "output_type": "stream",
          "name": "stdout",
          "text": [
            "Welcome to Sunday samayal\n",
            "samayal Sunday to Welcome\n"
          ]
        }
      ]
    },
    {
      "cell_type": "markdown",
      "source": [
        "**3.Rats Food**\n",
        "\n",
        "The function accepts two positive integers ‘r’ and ‘unit’ and a positive\n",
        "integer array ‘arr’ of size ‘n’ as its argument ‘r’ represents the number\n",
        "of rats present in an area, ‘unit’ is the amount of food each rat\n",
        "consumes and each ith element of array ‘arr’ represents the amount of\n",
        "food present in ‘i+1’ house number, where 0 <= i.\n",
        "\n",
        "**Note: **\n",
        "\n",
        "1. Return -1 if the array is null\n",
        "2. Return 0 if the total amount of food from all houses is not sufficient\n",
        "for all the rats.\n",
        "3. Computed values lie within the integer range.\n",
        "\n",
        "Example:\n",
        "\n",
        "Input:\n",
        "\n",
        "r: 7\n",
        "\n",
        "unit: 2\n",
        "\n",
        "n: 8\n",
        "\n",
        "arr: 2 8 3 5 7 4 1 2\n",
        "\n",
        "Output:\n",
        "\n",
        "4\n",
        "\n",
        "Explanation:\n",
        "Total amount of food required for all rats = r unit\n",
        "= 7 2 = 14.\n",
        "The amount of food in 1st houses = 2+8+3+5 = 18. Since, the amount of\n",
        "food in 1st 4 houses is sufficient for all the rats. Thus, output is 4."
      ],
      "metadata": {
        "id": "jATKrlBh0N54"
      }
    },
    {
      "cell_type": "code",
      "source": [
        "def ratsFood(r,unit,n,arr):\n",
        "    if arr is None or arr == 0:\n",
        "        return -1\n",
        "    food_required = 0\n",
        "    total_food_required = r*unit\n",
        "    for i in range(n):\n",
        "        food_required += arr[i]\n",
        "        if food_required>=total_food_required:\n",
        "            return i+1\n",
        "r=int(input())\n",
        "unit=int(input())\n",
        "n=int(input())\n",
        "arr=list(map(int, input().split()))\n",
        "print(ratsFood(r,unit,n,arr))"
      ],
      "metadata": {
        "colab": {
          "base_uri": "https://localhost:8080/"
        },
        "id": "dgz69mpR0mei",
        "outputId": "cb16ef95-3a29-431f-e839-f45523836e43"
      },
      "execution_count": 4,
      "outputs": [
        {
          "output_type": "stream",
          "name": "stdout",
          "text": [
            "7\n",
            "2\n",
            "8\n",
            "2 8 3 5 7 4 1 2\n",
            "4\n"
          ]
        }
      ]
    },
    {
      "cell_type": "markdown",
      "source": [
        "**4.findCount**\n",
        "\n",
        "You are given a function,\n",
        "int findCount(int arr[], int length, int num, int diff);\n",
        "The function accepts an integer array ‘arr’, its length and two integer\n",
        "variables ‘num’ and ‘diff’. Implement this function to find and return\n",
        "the number of elements of ‘arr’ having an absolute difference of less\n",
        "than or equal to ‘diff’ with ‘num’.\n",
        "Note: In case there is no element in ‘arr’ whose absolute difference\n",
        "with ‘num’ is less than or equal to ‘diff’, return -1.\n",
        "\n",
        "Example:\n",
        "\n",
        "Input:\n",
        "\n",
        "arr: 12 3 14 56 77 13\n",
        "\n",
        "num: 13\n",
        "\n",
        "diff: 2\n",
        "\n",
        "Output:\n",
        "\n",
        "3\n",
        "\n",
        "Explanation:  \n",
        "\n",
        "Elements of ‘arr’ having absolute difference of less than or equal to\n",
        "‘diff’ i.e. 2 with ‘num’ i.e. 13 are 12, 13 and 14.\n"
      ],
      "metadata": {
        "id": "W4P0pH-b0xN5"
      }
    },
    {
      "cell_type": "code",
      "source": [
        "def findCount(arr,num,diff):\n",
        "    if len(arr)<=0 and arr ==0:\n",
        "        return -1\n",
        "    elements = 0\n",
        "    for i in range(len(arr)):\n",
        "        if abs(arr[i]-num)<=diff:\n",
        "            elements+=1\n",
        "    if elements > 0:\n",
        "        return elements\n",
        "    else:\n",
        "        return -1\n",
        "arr=list(map(int, input().split()))\n",
        "num=int(input())\n",
        "diff=int(input())\n",
        "print(findCount(arr,num,diff))"
      ],
      "metadata": {
        "colab": {
          "base_uri": "https://localhost:8080/"
        },
        "id": "9gHCQr1X1GxI",
        "outputId": "997a1849-a6ca-47ae-e6bd-2b2d0ca5de8d"
      },
      "execution_count": 5,
      "outputs": [
        {
          "output_type": "stream",
          "name": "stdout",
          "text": [
            "12 3 14 56 77 13\n",
            "13\n",
            "2\n",
            "3\n"
          ]
        }
      ]
    }
  ]
}