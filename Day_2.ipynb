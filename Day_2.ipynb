{
  "nbformat": 4,
  "nbformat_minor": 0,
  "metadata": {
    "colab": {
      "provenance": [],
      "authorship_tag": "ABX9TyNIJ2buHqAtMCgTgnjUR9Ml",
      "include_colab_link": true
    },
    "kernelspec": {
      "name": "python3",
      "display_name": "Python 3"
    },
    "language_info": {
      "name": "python"
    }
  },
  "cells": [
    {
      "cell_type": "markdown",
      "metadata": {
        "id": "view-in-github",
        "colab_type": "text"
      },
      "source": [
        "<a href=\"https://colab.research.google.com/github/PravallikaKadali17/Python-Basic-Codes/blob/main/Day_2.ipynb\" target=\"_parent\"><img src=\"https://colab.research.google.com/assets/colab-badge.svg\" alt=\"Open In Colab\"/></a>"
      ]
    },
    {
      "cell_type": "markdown",
      "source": [
        "**1.** **Operation Choices**\n",
        "\n",
        "Write a function OperationChoices(c, a, b) which will accept three\n",
        "integers as an argument, and the function will return:\n",
        "(a + b) if the value of c=1.\n",
        "(a – b) if the value of c=2.\n",
        "(a * b) if the value of c=3.\n",
        "(a / b) if the value of c=4.\n",
        "Sample Test Case:\n",
        "\n",
        "Input:\n",
        "\n",
        "2\n",
        "\n",
        "15\n",
        "\n",
        "20\n",
        "\n",
        "Output:\n",
        "-5"
      ],
      "metadata": {
        "id": "PXLxi1-WrfyL"
      }
    },
    {
      "cell_type": "code",
      "source": [
        "def OperationsChoices(c,a,b):\n",
        "    if c == 1:\n",
        "        return a+b\n",
        "    elif c == 2:\n",
        "        return a-b\n",
        "    elif c == 3:\n",
        "        return a*b\n",
        "    elif c == 4:\n",
        "        return a/b\n",
        "    else:\n",
        "        return 'Invalid Position'\n",
        "c=int(input())\n",
        "a=int(input())\n",
        "b=int(input())\n",
        "print(OperationsChoices(c,a,b))"
      ],
      "metadata": {
        "colab": {
          "base_uri": "https://localhost:8080/"
        },
        "id": "Sw1DYQHDr142",
        "outputId": "ca3aae6f-fc2b-4d52-dac6-6b513240abdd"
      },
      "execution_count": 1,
      "outputs": [
        {
          "output_type": "stream",
          "name": "stdout",
          "text": [
            "2\n",
            "15\n",
            "20\n",
            "-5\n"
          ]
        }
      ]
    },
    {
      "cell_type": "markdown",
      "source": [
        "**2.Difference Of Sum**\n",
        "\n",
        "Write a function differenceofSum(a,b) which will take two integers as\n",
        "an argument. You’ve to obtain the total of all the integers ranging from\n",
        "1 to n (both inclusive) that are not divisible by b. You should also return\n",
        "the distinction between the sum of the integers which are not divisible\n",
        "by b with the sum of the integers divisible by b?\n",
        "Consider: a and b are greater than 0. i.e a>0 and b>0. And their sum\n",
        "should lies between the integral range.\n",
        "Sample Test Case 1:\n",
        "\n",
        "Input:\n",
        "\n",
        "a = 6 and b = 30\n",
        "\n",
        "Output:\n",
        "285"
      ],
      "metadata": {
        "id": "jUFs9lI4sQpm"
      }
    },
    {
      "cell_type": "code",
      "source": [
        "def differenceOfSum(a,b):\n",
        "    if a<=0 and b<=0:\n",
        "        return 0\n",
        "    sum_divisible=0\n",
        "    sum_notdivisible=0\n",
        "    for i in range(1,a+1):\n",
        "        if i%b!=0:\n",
        "            (sum_notdivisible) += i\n",
        "        elif i%b==0:\n",
        "            (sum_divisible) += i\n",
        "    difference=(sum_notdivisible - sum_divisible)\n",
        "    return sum_notdivisible,difference\n",
        "a=int(input())\n",
        "b=int(input())\n",
        "print(differenceOfSum(a,b))"
      ],
      "metadata": {
        "colab": {
          "base_uri": "https://localhost:8080/"
        },
        "id": "ZbDE0q2Tsed5",
        "outputId": "97e32ac3-165c-42f3-9864-6b1ffbee7cae"
      },
      "execution_count": 2,
      "outputs": [
        {
          "output_type": "stream",
          "name": "stdout",
          "text": [
            "6\n",
            "30\n",
            "(21, 21)\n"
          ]
        }
      ]
    },
    {
      "cell_type": "markdown",
      "source": [
        "**3.Anagram Strings**\n",
        "\n",
        "Write a function to check whether the given strings are anagrams or\n",
        "not. If the given strings are anagram then return 'yes' otherwise return\n",
        "'no'?\n",
        "Sample Test Case 1:\n",
        "\n",
        "Input:\n",
        "\n",
        "1st: learn\n",
        "\n",
        "2nd: simple\n",
        "\n",
        "Output:\n",
        "no"
      ],
      "metadata": {
        "id": "namIBxO5uXR0"
      }
    },
    {
      "cell_type": "code",
      "source": [
        "def are_anagrams(str1, str2):\n",
        "    str1 = str1.replace(\" \", \"\").lower()\n",
        "    str2 = str2.replace(\" \", \"\").lower()\n",
        "\n",
        "    if sorted(str1) == sorted(str2):\n",
        "        return 'yes'\n",
        "    else:\n",
        "        return 'no'\n",
        "\n",
        "str1 = (input())\n",
        "str2 = (input())\n",
        "print(are_anagrams(str1, str2))"
      ],
      "metadata": {
        "colab": {
          "base_uri": "https://localhost:8080/"
        },
        "id": "M5usWMWduo55",
        "outputId": "58b6279c-83b3-4feb-c530-c97ace558d3e"
      },
      "execution_count": 4,
      "outputs": [
        {
          "output_type": "stream",
          "name": "stdout",
          "text": [
            "learn\n",
            "simple\n",
            "no\n"
          ]
        }
      ]
    },
    {
      "cell_type": "markdown",
      "source": [
        "**4.Product Small Pair**\n",
        "Write a function Productsmallpair(sum, arr) which will accept the two\n",
        "integers sum and arr. These two integers will be used to find the arr(j)\n",
        "and arr(k) where k is not equal to j.arr(j) and arr(k). k != j.arr(j) and\n",
        "arr(k) should be the smallest elements from the array.\n",
        "\n",
        "**Rules:**\n",
        "\n",
        " If the value of n<2 or empty, then return -1.\n",
        "If these pairs are not found then return the value as 0.\n",
        "You should make sure that all the values are between the range of\n",
        "integers.\n",
        "Sample Test Case 1\n",
        "\n",
        "Input:\n",
        "\n",
        "sum: 9\n",
        "\n",
        "arr: 5 4 2 3 9 1 7\n",
        "\n",
        "Output:\n",
        "2"
      ],
      "metadata": {
        "id": "G3moN_v7uyvy"
      }
    },
    {
      "cell_type": "code",
      "source": [
        "def productSmallPair(sum,arr):\n",
        "    n=len(arr)\n",
        "    if n<2:\n",
        "        return -1\n",
        "    arr.sort()\n",
        "    if arr[0]+arr[1]<=sum:\n",
        "        return arr[0]*arr[1]\n",
        "    else:\n",
        "        return 0\n",
        "sum=int(input())\n",
        "arr=list(map(int, input().split()))\n",
        "print(productSmallPair(sum,arr))"
      ],
      "metadata": {
        "colab": {
          "base_uri": "https://localhost:8080/"
        },
        "id": "mDlu9ClkvD_7",
        "outputId": "9ed0fff3-8cef-4952-bd77-a218a55fe4c7"
      },
      "execution_count": 5,
      "outputs": [
        {
          "output_type": "stream",
          "name": "stdout",
          "text": [
            "9\n",
            "5 4 2 3 9 1 7\n",
            "2\n"
          ]
        }
      ]
    }
  ]
}