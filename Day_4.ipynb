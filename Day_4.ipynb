{
  "nbformat": 4,
  "nbformat_minor": 0,
  "metadata": {
    "colab": {
      "provenance": [],
      "authorship_tag": "ABX9TyNpRTx9M/YuPxW3rAu0NIGZ",
      "include_colab_link": true
    },
    "kernelspec": {
      "name": "python3",
      "display_name": "Python 3"
    },
    "language_info": {
      "name": "python"
    }
  },
  "cells": [
    {
      "cell_type": "markdown",
      "metadata": {
        "id": "view-in-github",
        "colab_type": "text"
      },
      "source": [
        "<a href=\"https://colab.research.google.com/github/PravallikaKadali17/Python-Basic-Codes/blob/main/Day_4.ipynb\" target=\"_parent\"><img src=\"https://colab.research.google.com/assets/colab-badge.svg\" alt=\"Open In Colab\"/></a>"
      ]
    },
    {
      "cell_type": "markdown",
      "source": [
        "**1.DectoNBase**\n",
        "\n",
        "N-base notation is a system for writing numbers that uses only n\n",
        "different symbols, This symbols are the first n symbols from the given\n",
        "notation list(Including the symbol for o) Decimal to n base notation are\n",
        "(0:0, 1:1, 2:2, 3:3, 4:4, 5:5, 6:6, 7:7, 8:8, 9:9, 10:A,11:B and so on upto\n",
        "35:Z).\n",
        "Implement the following function\n",
        "char DectoNBase(int n, int num):*\n",
        "The function accept positive integer n and num Implement the function\n",
        "to calculate the n-base equivalent of num and return the same as a\n",
        "string\n",
        "Steps:\n",
        "Divide the decimal number by n,Treat the division as the integer\n",
        "division\n",
        "Write the the remainder (in n-base notation)\n",
        "Divide the quotient again by n, Treat the division as integer division\n",
        "Repeat step 2 and 3 until the quotient is 0\n",
        "The n-base value is the sequence of the remainders from last to first\n",
        "Assumption:\n",
        "\n",
        "1 < n < = 36\n",
        "\n",
        " Example\n",
        "\n",
        "Input\n",
        "\n",
        "n: 12\n",
        "\n",
        "num: 718\n",
        "\n",
        "Output\n",
        "\n",
        "4BA\n",
        "\n",
        "Explanation\n",
        "\n",
        "num = 718, divisor = 12, quotient=59, remainder=10(A).\n",
        "\n",
        "num = 59, divisor = 12, quotient=4, remainder=11(B).\n",
        "\n",
        "num = 4, divisor = 12, quotient=0, remainder=4(A).\n"
      ],
      "metadata": {
        "id": "3XC3WqOb1Ywf"
      }
    },
    {
      "cell_type": "code",
      "execution_count": 1,
      "metadata": {
        "colab": {
          "base_uri": "https://localhost:8080/"
        },
        "id": "Jut3YTBs1XTt",
        "outputId": "62dd9cfd-8d1e-4820-cdc4-525630b13900"
      },
      "outputs": [
        {
          "output_type": "stream",
          "name": "stdout",
          "text": [
            "12\n",
            "718\n",
            "4BA\n"
          ]
        }
      ],
      "source": [
        "def DecoNBase(n, num):\n",
        "    symbols = \"0123456789ABCDEFGHIJKLMNOPQRSTUVWXYZ\"\n",
        "\n",
        "    result = ''\n",
        "    while num > 0:\n",
        "        remainder = num % n\n",
        "        result = symbols[remainder] + result\n",
        "        num //= n\n",
        "\n",
        "    return result if result else '0'\n",
        "\n",
        "n = int(input())\n",
        "num = int(input())\n",
        "print(DecoNBase(n, num))"
      ]
    },
    {
      "cell_type": "markdown",
      "source": [
        "**2.MATRIX EVEN ODD**\n",
        "\n",
        "You are required to input the size of the matrix then the elements of\n",
        "matrix, then you have to divide the main matrix in two sub matrices\n",
        "(even and odd) in such a way that element at 0 index will be considered\n",
        "as even and element at 1st index will be considered as odd and so on.\n",
        "Then you have sort the even and odd matrices in ascending order and\n",
        "print the sum of second largest number from both the matrices.\n",
        "\n",
        "Example\n",
        "\n",
        "enter the size of array : 5\n",
        "\n",
        "enter element at 0 index : 3\n",
        "\n",
        "enter element at 1 index : 4\n",
        "\n",
        "enter element at 2 index : 1\n",
        "\n",
        "enter element at 3 index : 7\n",
        "\n",
        "enter element at 4 index : 9\n",
        "\n",
        "Sorted even array : 1 3 9\n",
        "\n",
        "Sorted odd array : 4 7\n",
        "\n",
        "Sum = 7"
      ],
      "metadata": {
        "id": "mb8Pk-Mw2Cep"
      }
    },
    {
      "cell_type": "code",
      "source": [
        "def MatrixEvenOdd(arr):\n",
        "    if arr is None or len(arr) == 0:\n",
        "        return -1\n",
        "    even = []\n",
        "    odd = []\n",
        "    for i in range(len(arr)):\n",
        "        if i%2 == 0:\n",
        "            even.append(arr[i])\n",
        "        else:\n",
        "            odd.append(arr[i])\n",
        "        even.sort()\n",
        "        odd.sort()\n",
        "        if len(even) >= 2 and len(odd) >= 2:\n",
        "            sum = even[-2]+odd[-2]\n",
        "    return sum\n",
        "arr = list(map(int, input().split()))\n",
        "print(MatrixEvenOdd(arr))"
      ],
      "metadata": {
        "colab": {
          "base_uri": "https://localhost:8080/"
        },
        "id": "d8LLeR3U2awS",
        "outputId": "b7ed232c-9a77-4c4b-bc1b-6b2fd0b74abe"
      },
      "execution_count": 2,
      "outputs": [
        {
          "output_type": "stream",
          "name": "stdout",
          "text": [
            "3 4 1 7 9\n",
            "7\n"
          ]
        }
      ]
    },
    {
      "cell_type": "markdown",
      "source": [
        "**3.MATHS IS FUN**\n",
        "\n",
        "You are required to implement the following function:\n",
        "int Calculate(int m, int n);\n",
        "The function accepts 2 positive integers ‘m’ and ‘n’ as its arguments.You\n",
        "are required to calculate the sum of numbers divisible both by 3 and 5,\n",
        "between ‘m’ and ‘n’ both inclusive and return the same.\n",
        "\n",
        "Note\n",
        "\n",
        "0 < m <= n\n",
        "\n",
        "Example\n",
        "\n",
        "Input:\n",
        "\n",
        "m : 12\n",
        "\n",
        "n : 50\n",
        "\n",
        "Output\n",
        "\n",
        "90\n",
        "\n",
        "Explanation:\n",
        "\n",
        "The numbers divisible by both 3 and 5, between 12 and 50 both\n",
        "inclusive are {15, 30, 45} and their sum is 90.\n",
        "\n",
        "Sample Input\n",
        "\n",
        "m : 100\n",
        "\n",
        "n : 160\n",
        "\n",
        "Sample Output:\n",
        "\n",
        "510"
      ],
      "metadata": {
        "id": "VwzNeV0X2kei"
      }
    },
    {
      "cell_type": "code",
      "source": [
        "def Calculate(m,n):\n",
        "    sum = 0\n",
        "    for i in range(m,n+1):\n",
        "        if i%3==0 and i%5==0:\n",
        "            sum+=i\n",
        "    return sum\n",
        "m=int(input())\n",
        "n=int(input())\n",
        "print(Calculate(m,n))"
      ],
      "metadata": {
        "colab": {
          "base_uri": "https://localhost:8080/"
        },
        "id": "fAgtV48j24l_",
        "outputId": "77e35495-bfef-4938-8170-9397c277edd2"
      },
      "execution_count": 5,
      "outputs": [
        {
          "output_type": "stream",
          "name": "stdout",
          "text": [
            "100\n",
            "160\n",
            "510\n"
          ]
        }
      ]
    },
    {
      "cell_type": "markdown",
      "source": [
        "**4.longest common subsequence**\n",
        "\n",
        "Write a program to find the length of the longest common\n",
        "subsequence between two strings."
      ],
      "metadata": {
        "id": "F58xmb1K3FC6"
      }
    },
    {
      "cell_type": "code",
      "source": [
        "def lcs(S1,S2):\n",
        "    res = []\n",
        "    for i in S1:\n",
        "      if i in S2:\n",
        "        res.append(i)\n",
        "    res = set(res)\n",
        "    return len(res)\n",
        "S1 = input()\n",
        "S2 = input()\n",
        "print(lcs(S1,S2))"
      ],
      "metadata": {
        "colab": {
          "base_uri": "https://localhost:8080/"
        },
        "id": "pZ8q3i_v3M8l",
        "outputId": "fda30884-087f-4533-e93a-88a4e888ccbb"
      },
      "execution_count": 6,
      "outputs": [
        {
          "output_type": "stream",
          "name": "stdout",
          "text": [
            "AGGTAB\n",
            "GXTXAYB\n",
            "4\n"
          ]
        }
      ]
    }
  ]
}