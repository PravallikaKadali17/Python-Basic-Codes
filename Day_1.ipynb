{
  "nbformat": 4,
  "nbformat_minor": 0,
  "metadata": {
    "colab": {
      "provenance": []
    },
    "kernelspec": {
      "name": "python3",
      "display_name": "Python 3"
    },
    "language_info": {
      "name": "python"
    }
  },
  "cells": [
    {
      "cell_type": "markdown",
      "source": [
        "**1**.**SmallLargeSum**\n",
        "\n",
        "\n",
        "Write a function SmallLargeSum(array) which accepts the array as an argument or parameter,\n",
        "that performs the addition of the second largest element from the even location with the second largest element from\n",
        "an odd location? Rules: All the array elements are unique. If the length of the array is 3 or less than 3, then return 0.\n",
        "If Array is empty then return zero.\n",
        "\n",
        "Sample Test Case 1:\n",
        "\n",
        "Input: 6 3 2 1 7 5 4\n",
        "\n",
        "Output: 7\n",
        "\n",
        "Explanation: The second largest element in the even locations (3, 1, 5) is 3.\n",
        "The second largest element in the odd locations (2, 7, 4) is 4. So the addition of 3 and 4 is 7. So the answer is 7.\n",
        "\n",
        "Sample Test Case 2:\n",
        "\n",
        "Input: 7 4 0 7 9 6 4 2\n",
        "\n",
        "Output: 10"
      ],
      "metadata": {
        "id": "6HBWoeZeV3UD"
      }
    },
    {
      "cell_type": "code",
      "source": [
        "def SmallLargeSum(arr):\n",
        "    if len(arr)<=3 or len(arr)==0:\n",
        "      return 0\n",
        "    even_elements=[]\n",
        "    odd_elements=[]\n",
        "    for i in range(len(arr)):\n",
        "      if i%2==0:\n",
        "        even_elements.append(arr[i])\n",
        "      else:\n",
        "        odd_elements.append(arr[i])\n",
        "    if len(even_elements)< 2 or len(odd_elements)< 2:\n",
        "      return 0\n",
        "    even_elements.sort()\n",
        "    odd_elements.sort()\n",
        "    return even_elements[-2]+odd_elements[-2]\n",
        "arr=list(map(int,input().split()))\n",
        "print(SmallLargeSum(arr))"
      ],
      "metadata": {
        "colab": {
          "base_uri": "https://localhost:8080/"
        },
        "id": "IzULRdXHWHH9",
        "outputId": "0e6bdacc-46df-4022-ab3f-c914e3ed5bab"
      },
      "execution_count": null,
      "outputs": [
        {
          "output_type": "stream",
          "name": "stdout",
          "text": [
            " 6 3 2 1 7 5 4\n",
            "9\n"
          ]
        }
      ]
    },
    {
      "cell_type": "markdown",
      "source": [
        "**2.** **Check Password**\n",
        "\n",
        "Write a function CheckPassword(str) which will accept the string as an\n",
        "argument or parameter and validates the password. It will return 1 if\n",
        "the conditions are satisfied else it will return 0?\n",
        "The password is valid if it satisfies the below conditions:\n",
        "It should contain at least 4 characters.\n",
        "At least 1 numeric digit should be present.\n",
        "1 Capital letter should be there.\n",
        "Password should not contain space or slash.\n",
        "The starting character should not be a number.\n",
        "\n",
        "Sample Test Case:\n",
        "\n",
        "Input: bB1_89\n",
        "\n",
        "Output:\n",
        "1"
      ],
      "metadata": {
        "id": "GRVXKSexXDcY"
      }
    },
    {
      "cell_type": "code",
      "source": [
        "def CheckPassword(str):\n",
        "    if len(str)<4:\n",
        "        return 0\n",
        "    num=0\n",
        "    cap=0\n",
        "    for i in range(len(str)):\n",
        "        if str[i]==\" \" or str[i] == \"/\":\n",
        "            return 0\n",
        "        if str[i].isupper():\n",
        "            cap+=1\n",
        "        elif str[i].isdigit():\n",
        "            num+=1\n",
        "    if num>0 and cap>0:\n",
        "        return 1\n",
        "    else:\n",
        "        return 0\n",
        "str=input()\n",
        "print(CheckPassword(str))"
      ],
      "metadata": {
        "colab": {
          "base_uri": "https://localhost:8080/"
        },
        "id": "AVWzdj-xXUUb",
        "outputId": "bb8082fb-fc7e-4452-800d-163743afdac9"
      },
      "execution_count": null,
      "outputs": [
        {
          "output_type": "stream",
          "name": "stdout",
          "text": [
            "bB1_89\n",
            "1\n"
          ]
        }
      ]
    },
    {
      "cell_type": "markdown",
      "source": [
        "**3.** **Calculate Binary Operations**\n",
        "\n",
        "Write a function CalculateBinaryOperations(str) that accepts the string\n",
        "as an argument or parameter. The string should contains the binary\n",
        "numbers with their operators OR, AND, and XOR?\n",
        "A Means the AND Operation.\n",
        "B Means the OR Operation.\n",
        "C Means the XOR Operation.\n",
        "By scanning the given string from left to right you’ve to calculate the\n",
        "string and by taking one operator at a time then return the desired\n",
        "output.\n",
        "Conditions:\n",
        "The priority of the operator is not required.\n",
        "The length of the string is always Odd.\n",
        "If the length of the string is null then return -1.\n",
        "\n",
        "Sample Test Case:\n",
        "\n",
        "Input:\n",
        "1C0C1C1A0B1\n",
        "\n",
        "Output:\n",
        "1"
      ],
      "metadata": {
        "id": "KzxFCXdbXcVw"
      }
    },
    {
      "cell_type": "code",
      "source": [
        "def OperationsBinaryString(str):\n",
        "    a = int(str[0])\n",
        "    i=1\n",
        "    while i<len(str):\n",
        "        if str[i] == 'A':\n",
        "            a &= int(str[i+1])\n",
        "        elif str[i] == 'B':\n",
        "            a |= int(str[i+1])\n",
        "        else:\n",
        "            a ^= int(str[i+1])\n",
        "        i += 2\n",
        "    return a\n",
        "\n",
        "str = input()\n",
        "print(OperationsBinaryString(str))"
      ],
      "metadata": {
        "colab": {
          "base_uri": "https://localhost:8080/"
        },
        "id": "IJAunl9mXnDB",
        "outputId": "95b5a71d-b381-4bac-b3f5-deffffb35cdc"
      },
      "execution_count": null,
      "outputs": [
        {
          "output_type": "stream",
          "name": "stdout",
          "text": [
            "1C0C1C1A0B1\n",
            "1\n"
          ]
        }
      ]
    },
    {
      "cell_type": "markdown",
      "source": [
        "**4.** **Find Maximum In An Array**\n",
        "\n",
        "Write a function Find\n",
        "MaxInArray, which will find the greatest number\n",
        "from an array with its desired index? The greatest number and its\n",
        "desired index should be printed in separate lines.\n",
        "Sample Test Case:\n",
        "\n",
        "Input:\n",
        "10 15 78 96 17 20 65 14 36 18 20\n",
        "\n",
        "Output:\n",
        "96\n",
        "2"
      ],
      "metadata": {
        "id": "5S4JYIQ3Xxyp"
      }
    },
    {
      "cell_type": "code",
      "source": [
        "def FindMaxInArray(arr):\n",
        "    max_val=max(arr)\n",
        "    max_ind=arr.index(max_val)\n",
        "    print(max_val)\n",
        "    print(max_ind)\n",
        "arr=list(map(int, input().split()))\n",
        "FindMaxInArray(arr)"
      ],
      "metadata": {
        "colab": {
          "base_uri": "https://localhost:8080/"
        },
        "id": "QE15X1R5X4xe",
        "outputId": "69c3f825-5a5e-49c0-eccb-5fc71f58a099"
      },
      "execution_count": null,
      "outputs": [
        {
          "output_type": "stream",
          "name": "stdout",
          "text": [
            "10 15 78 96 17 20 65 14 36 18 20\n",
            "96\n",
            "3\n"
          ]
        }
      ]
    }
  ]
}